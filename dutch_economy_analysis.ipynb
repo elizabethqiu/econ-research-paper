{
 "cells": [
  {
   "cell_type": "markdown",
   "id": "2b44c01e",
   "metadata": {},
   "source": [
    "# The Impact of Marital Status on the Labor Force Composition: a case of the Dutch Economy\n",
    "\n",
    "## Elizabeth Qiu\n",
    "\n",
    "Econ concept: In any economy, the labor force will consist of anyone who is willing and able to work. However, there is always a natural rate of unemployment, due to frictional _____ () /// MUST include 3 micro concepts 😵‍💫😵‍💫😵‍💫.\n",
    "\n",
    "Hypothesis: If prices\n",
    "\n",
    "For my final economics project, I wanted to initially do some research on (Project #1) the effect of income changes on consumer choices for buying radishes, but I really couldn't find any consistent good data on sales. Also, I didn't know if radishes were a normal or inferior good :(\n",
    "\n",
    "So instead, I randomly picked a happy country, because seeing happy people makes me super happy. Countries like Finland, Iceland, and the Netherlands are home to the happiest people in the world (Source: USAToday). However, I don't know much about the marital statuses of the people that live there (Project #3), and I thought it would be cool to analyze if it could impact or predict the size or makeup of the national labor force. Or maybe correlation doesn't imply causation!\n",
    "\n",
    "So that's how my project selection process went from a radish case study to a Dutch marriage :)\n",
    "\n",
    "// Future comments: education, culture. Errors/biases, Compare to other countries like US"
   ]
  },
  {
   "cell_type": "markdown",
   "id": "73a539d2",
   "metadata": {},
   "source": [
    "# Data!\n"
   ]
  },
  {
   "cell_type": "markdown",
   "id": "46bad6b9",
   "metadata": {},
   "source": [
    "## Datasets Used\n",
    "\n",
    "1. \"World Development Indicators\" from the [World Bank](https://data.worldbank.org/indicator/SL.TLF.TOTL.IN?end=2010&locations=NL&name_desc=false&start=2000&view=chart) to find the labor force population in the Netherlands each year from 2000 to 2010. (Last Updated: 04-27-2022)\n",
    "\n",
    "2. \"population; sex, age and marital status, January 1; 1950-2019\" to find marriage metrics (I extracted data for 2000-2010, removed \"widowed\" and \"divorced\" metrics, and removed data under 20 years old) (10-year-olds should probably not be getting married, anyway). This was found on from [StatLine](https://opendata.cbs.nl/statline/#/CBS/en/dataset/7461ENG/table?fromstatweb) on the Dutch government website! And info is retrieved from CBS. (Last Updated: 07-15-2019)\n",
    "\n",
    "3. I use the [World Inequity Database](https://wid.world/data/) to find Gross domestic product per capita in the Netherlands. (Last Updated: 2022)"
   ]
  },
  {
   "cell_type": "code",
   "execution_count": 27,
   "id": "173890d1",
   "metadata": {
    "scrolled": false
   },
   "outputs": [
    {
     "data": {
      "text/html": [
       "<div>\n",
       "<style scoped>\n",
       "    .dataframe tbody tr th:only-of-type {\n",
       "        vertical-align: middle;\n",
       "    }\n",
       "\n",
       "    .dataframe tbody tr th {\n",
       "        vertical-align: top;\n",
       "    }\n",
       "\n",
       "    .dataframe thead th {\n",
       "        text-align: right;\n",
       "    }\n",
       "</style>\n",
       "<table border=\"1\" class=\"dataframe\">\n",
       "  <thead>\n",
       "    <tr style=\"text-align: right;\">\n",
       "      <th></th>\n",
       "      <th>Country Name</th>\n",
       "      <th>2000</th>\n",
       "      <th>2001</th>\n",
       "      <th>2002</th>\n",
       "      <th>2003</th>\n",
       "      <th>2004</th>\n",
       "      <th>2005</th>\n",
       "      <th>2006</th>\n",
       "      <th>2007</th>\n",
       "      <th>2008</th>\n",
       "      <th>2009</th>\n",
       "      <th>2010</th>\n",
       "    </tr>\n",
       "  </thead>\n",
       "  <tbody>\n",
       "    <tr>\n",
       "      <th>0</th>\n",
       "      <td>Netherlands</td>\n",
       "      <td>8248997</td>\n",
       "      <td>8400591</td>\n",
       "      <td>8547488</td>\n",
       "      <td>8570550</td>\n",
       "      <td>8623015</td>\n",
       "      <td>8455225</td>\n",
       "      <td>8496086</td>\n",
       "      <td>8659491</td>\n",
       "      <td>8818906</td>\n",
       "      <td>8903655</td>\n",
       "      <td>8885675</td>\n",
       "    </tr>\n",
       "    <tr>\n",
       "      <th>1</th>\n",
       "      <td>United States</td>\n",
       "      <td>146013784</td>\n",
       "      <td>147226537</td>\n",
       "      <td>148295437</td>\n",
       "      <td>149003774</td>\n",
       "      <td>150102997</td>\n",
       "      <td>151976098</td>\n",
       "      <td>153855509</td>\n",
       "      <td>155224880</td>\n",
       "      <td>156907793</td>\n",
       "      <td>157079943</td>\n",
       "      <td>157111093</td>\n",
       "    </tr>\n",
       "  </tbody>\n",
       "</table>\n",
       "</div>"
      ],
      "text/plain": [
       "    Country Name       2000       2001       2002       2003       2004  \\\n",
       "0    Netherlands    8248997    8400591    8547488    8570550    8623015   \n",
       "1  United States  146013784  147226537  148295437  149003774  150102997   \n",
       "\n",
       "        2005       2006       2007       2008       2009       2010  \n",
       "0    8455225    8496086    8659491    8818906    8903655    8885675  \n",
       "1  151976098  153855509  155224880  156907793  157079943  157111093  "
      ]
     },
     "execution_count": 27,
     "metadata": {},
     "output_type": "execute_result"
    }
   ],
   "source": [
    "# Importing libraries 💫\n",
    "import pandas as pd\n",
    "import numpy as np\n",
    "import datetime\n",
    "import matplotlib.pyplot as plt\n",
    "\n",
    "# Dataset 1\n",
    "# pd.set_option('display.max_columns', None)\n",
    "lfdata = pd.read_csv(\"Labor_Force.csv\")\n",
    "# print(lfdata.to_string())\n",
    "# print(lfdata)\n",
    "lfdata.head()\n",
    "\n",
    "# Dataset 2\n",
    "# psamsdata = pd.read_csv(\"PSAMS.csv\")\n",
    "# psamsdata.head()"
   ]
  },
  {
   "cell_type": "code",
   "execution_count": 31,
   "id": "f279f4d8",
   "metadata": {},
   "outputs": [
    {
     "data": {
      "text/plain": [
       "<AxesSubplot:>"
      ]
     },
     "execution_count": 31,
     "metadata": {},
     "output_type": "execute_result"
    },
    {
     "data": {
      "image/png": "[encoded data removed]",
      "text/plain": [
       "<Figure size 432x288 with 1 Axes>"
      ]
     },
     "metadata": {
      "needs_background": "light"
     },
     "output_type": "display_data"
    }
   ],
   "source": [
    "# lfdata.shape\n",
    "lfdata.plot()\n",
    "# hist = lfdata.plot.hist(figsize=(10,10),layout=(3,4))"
   ]
  },
  {
   "cell_type": "code",
   "execution_count": 20,
   "id": "5a1851cc",
   "metadata": {},
   "outputs": [
    {
     "data": {
      "text/html": [
       "<div>\n",
       "<style scoped>\n",
       "    .dataframe tbody tr th:only-of-type {\n",
       "        vertical-align: middle;\n",
       "    }\n",
       "\n",
       "    .dataframe tbody tr th {\n",
       "        vertical-align: top;\n",
       "    }\n",
       "\n",
       "    .dataframe thead th {\n",
       "        text-align: right;\n",
       "    }\n",
       "</style>\n",
       "<table border=\"1\" class=\"dataframe\">\n",
       "  <thead>\n",
       "    <tr style=\"text-align: right;\">\n",
       "      <th></th>\n",
       "      <th>column_1</th>\n",
       "      <th>another_column</th>\n",
       "      <th>float_column</th>\n",
       "      <th>binary_solo</th>\n",
       "    </tr>\n",
       "  </thead>\n",
       "  <tbody>\n",
       "    <tr>\n",
       "      <th>0</th>\n",
       "      <td>1</td>\n",
       "      <td>this</td>\n",
       "      <td>0.1</td>\n",
       "      <td>True</td>\n",
       "    </tr>\n",
       "    <tr>\n",
       "      <th>1</th>\n",
       "      <td>2</td>\n",
       "      <td>column</td>\n",
       "      <td>0.3</td>\n",
       "      <td>False</td>\n",
       "    </tr>\n",
       "    <tr>\n",
       "      <th>2</th>\n",
       "      <td>3</td>\n",
       "      <td>has</td>\n",
       "      <td>0.5</td>\n",
       "      <td>False</td>\n",
       "    </tr>\n",
       "    <tr>\n",
       "      <th>3</th>\n",
       "      <td>4</td>\n",
       "      <td>weird</td>\n",
       "      <td>0.7</td>\n",
       "      <td>True</td>\n",
       "    </tr>\n",
       "    <tr>\n",
       "      <th>4</th>\n",
       "      <td>5</td>\n",
       "      <td>datapoints</td>\n",
       "      <td>0.9</td>\n",
       "      <td>False</td>\n",
       "    </tr>\n",
       "  </tbody>\n",
       "</table>\n",
       "</div>"
      ],
      "text/plain": [
       "   column_1 another_column  float_column  binary_solo\n",
       "0         1           this           0.1         True\n",
       "1         2         column           0.3        False\n",
       "2         3            has           0.5        False\n",
       "3         4          weird           0.7         True\n",
       "4         5     datapoints           0.9        False"
      ]
     },
     "execution_count": 20,
     "metadata": {},
     "output_type": "execute_result"
    }
   ],
   "source": [
    "import pandas as pd\n",
    "# import os\n",
    "\n",
    "new_dataframe = pd.DataFrame(\n",
    "    {\n",
    "        \"column_1\": [1,2,3,4,5],\n",
    "        \"another_column\": ['this', 'column', 'has', 'weird', 'datapoints'],\n",
    "        \"float_column\": [0.1, 0.3, 0.5, 0.7, 0.9],\n",
    "        \"binary_solo\": [True, False, False, True, False]\n",
    "    }\n",
    ")\n",
    "\n",
    "new_dataframe"
   ]
  },
  {
   "cell_type": "code",
   "execution_count": null,
   "id": "edc5d5a1",
   "metadata": {},
   "outputs": [],
   "source": []
  }
 ],
 "metadata": {
  "kernelspec": {
   "display_name": "Python 3 (ipykernel)",
   "language": "python",
   "name": "python3"
  },
  "language_info": {
   "codemirror_mode": {
    "name": "ipython",
    "version": 3
   },
   "file_extension": ".py",
   "mimetype": "text/x-python",
   "name": "python",
   "nbconvert_exporter": "python",
   "pygments_lexer": "ipython3",
   "version": "3.9.7"
  }
 },
 "nbformat": 4,
 "nbformat_minor": 5
}
